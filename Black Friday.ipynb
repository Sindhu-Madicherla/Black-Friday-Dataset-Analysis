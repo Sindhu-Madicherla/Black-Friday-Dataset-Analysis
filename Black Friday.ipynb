{
 "cells": [
  {
   "cell_type": "code",
   "execution_count": 3,
   "metadata": {
    "collapsed": false
   },
   "outputs": [],
   "source": [
    "import numpy as np\n",
    "import pandas as pd\n",
    "import seaborn as sns\n",
    "import matplotlib.pyplot as plt\n",
    "import warnings\n",
    "import os\n",
    "\n",
    "%matplotlib inline \n",
    "\n",
    "import xgboost as xgb\n",
    "from sklearn import cross_validation as cv\n",
    "from sklearn import cross_validation as cv\n",
    "from sklearn.metrics import mean_squared_error\n",
    "from sklearn import preprocessing\n",
    "from sklearn.metrics import mean_squared_error\n",
    "from math import sqrt\n",
    "from sklearn.calibration import CalibratedClassifierCV\n",
    "\n",
    "warnings.filterwarnings(\"ignore\")"
   ]
  },
  {
   "cell_type": "code",
   "execution_count": 4,
   "metadata": {
    "collapsed": true
   },
   "outputs": [],
   "source": [
    "train_raw = pd.read_csv(\"C:\\\\Users\\\\Sindhu\\\\Desktop\\\\Analytics\\\\Kaggle\\\\Datasets\\\\Black Friday\\\\train.csv\")\n",
    "test_raw = pd.read_csv(\"C:\\\\Users\\\\Sindhu\\\\Desktop\\\\Analytics\\\\Kaggle\\\\Datasets\\\\Black Friday\\\\test.csv\")\n",
    "\n",
    "combined = pd.concat([train_raw, test_raw], ignore_index= True)\n"
   ]
  },
 
  {
   "cell_type": "code",
   "execution_count": 5,
   "metadata": {
    "collapsed": false
   },
   "outputs": [],
   "source": [
    "# Gender \n",
    "\n",
    "combined.Gender[combined.Gender=='F'] = 0\n",
    "combined.Gender[combined.Gender=='M'] = 1\n",
    "\n",
    "# Age\n",
    "\n",
    "combined.Age[combined.Age == '0-17'] = 0\n",
    "combined.Age[combined.Age == '55+'] = 6\n",
    "combined.Age[combined.Age == '26-35'] = 2\n",
    "combined.Age[combined.Age == '46-50'] = 4\n",
    "combined.Age[combined.Age == '51-55'] = 5\n",
    "combined.Age[combined.Age == '36-45'] = 3\n",
    "combined.Age[combined.Age == '18-25'] = 1\n",
    "\n",
    "# City_Category\n",
    "combined.City_Category[combined.City_Category == 'A'] = 0\n",
    "combined.City_Category[combined.City_Category == 'B'] =1\n",
    "combined.City_Category[combined.City_Category == 'C'] =2\n",
    "\n",
    "# Stay_In_Current_City_Years\n",
    "combined.Stay_In_Current_City_Years[combined.Stay_In_Current_City_Years== '2'] = 2\n",
    "combined.Stay_In_Current_City_Years[combined.Stay_In_Current_City_Years== '4+'] = 4\n",
    "combined.Stay_In_Current_City_Years[combined.Stay_In_Current_City_Years== '3'] = 3\n",
    "combined.Stay_In_Current_City_Years[combined.Stay_In_Current_City_Years== '1'] = 1\n",
    "combined.Stay_In_Current_City_Years[combined.Stay_In_Current_City_Years== '0'] = 0 \n",
    "\n",
    "\n"
   ]
  },
  {
   "cell_type": "code",
   "execution_count": 107,
   "metadata": {
    "collapsed": false
   },
   "outputs": [],
   "source": [
    "combined.Gender = combined.Gender.astype(int)\n",
    "combined.Age = combined.Age.astype(int)\n",
    "combined.City_Category = combined.City_Category.astype(int)\n",
    "combined.Stay_In_Current_City_Years = combined.Stay_In_Current_City_Years.astype(int)\n",
    "combined.User_ID = combined.User_ID.astype(int)\n",
    "\n",
    "# Changing Product_ID labels for ease \n",
    "le =preprocessing.LabelEncoder()\n",
    "le = le.fit(combined.Product_ID)\n",
    "le_new= le.transform(combined.Product_ID)\n",
    "combined.Product_ID = le_new\n",
    "\n",
    "\n"
   ]
  },
  {
   "cell_type": "code",
   "execution_count": 108,
   "metadata": {
    "collapsed": false
   },
   "outputs": [],
   "source": [
    "# Extra Features :\n",
    "\n",
    "Product_mean = combined.groupby(combined.Product_ID).mean()['Purchase']\n",
    "combined['Product_mean'] =combined.Product_ID.map(Product_mean)\n",
    "\n",
    "combined['Diff'] = combined.Purchase - combined.Product_mean\n",
    "Diff_mean = combined.groupby(combined.User_ID).mean()['Diff']\n",
    "combined['Diff_mean'] =combined.User_ID.map(Diff_mean)\n",
    "\n",
    "mean = combined.groupby(combined.Age).mean()['Purchase']\n",
    "mean_map = combined.Age.map(mean)\n",
    "combined['diff'] = combined.Purchase - mean_map\n",
    "diff_mean = combined.groupby(combined.User_ID).mean()['diff']\n",
    "combined['Age_Diff_mean'] =combined.User_ID.map(diff_mean)\n",
    "\n",
    "mean = combined.groupby(combined.Gender).mean()['Purchase']\n",
    "mean_map = combined.Gender.map(mean)\n",
    "combined['diff'] = combined.Purchase - mean_map\n",
    "diff_mean = combined.groupby(combined.User_ID).mean()['diff']\n",
    "combined['Gender_Diff_mean'] =combined.User_ID.map(diff_mean)\n",
    "\n",
    "mean = combined.groupby(combined.City_Category).mean()['Purchase']\n",
    "mean_map = combined.City_Category.map(mean)\n",
    "combined['diff'] = combined.Purchase - mean_map\n",
    "diff_mean = combined.groupby(combined.User_ID).mean()['diff']\n",
    "combined['City_Diff_mean'] =combined.User_ID.map(diff_mean)\n",
    "\n",
    "mean = combined.groupby(combined.Product_Category_1).mean()['Purchase']\n",
    "mean_map = combined.Product_Category_1 .map(mean)\n",
    "combined['diff'] = combined.Purchase - mean_map\n",
    "diff_mean = combined.groupby(combined.User_ID).mean()['diff']\n",
    "combined['PC1_Diff_mean'] =combined.User_ID.map(diff_mean)\n",
    "\n",
    "\n",
    "mean = combined.groupby(combined.Occupation).mean()['Purchase']\n",
    "mean_map = combined.Occupation.map(mean)\n",
    "combined['diff'] = combined.Purchase - mean_map\n",
    "diff_mean = combined.groupby(combined.User_ID).mean()['diff']\n",
    "combined['Occupation_Diff_mean'] =combined.User_ID.map(diff_mean)\n",
    "\n",
    "\n",
    "# User into bins \n",
    "bins= pd.qcut(combined.groupby('User_ID')['Purchase'].sum(), 10,labels= [0,1,2,3,4,5,6,7,8,9])\n",
    "combined['User_Cat']=combined['User_ID'].map(bins)\n",
    "\n",
    "mean = combined.groupby(combined.User_Cat).mean()['Purchase']\n",
    "mean_map = combined.User_Cat.map(mean)\n",
    "combined['diff'] = combined.Purchase - mean_map\n",
    "diff_mean = combined.groupby(combined.User_ID).mean()['diff']\n",
    "combined['User_Cat_Diff_mean'] =combined.User_ID.map(diff_mean)\n",
    "\n",
    "\n"
   ]
  },
  {
   "cell_type": "code",
   "execution_count": 109,
   "metadata": {
    "collapsed": false
   },
   "outputs": [],
   "source": [
    "combined= combined.drop(['User_ID','Diff','Product_ID','diff','User_Cat','Product_Category_3'], axis=1)\n",
    "\n"
   ]
  },
  
  {
   "cell_type": "code",
   "execution_count": 112,
   "metadata": {
    "collapsed": false
   },
   "outputs": [],
   "source": [
    "\n",
    "train = combined.iloc[0:550068]\n",
    "test = combined.iloc[550068:783667]\n",
    "test =test.drop(['Purchase'], axis=1)\n",
    "test =test.reset_index(drop=True)"
   ]
  },
  {
   "cell_type": "code",
   "execution_count": 113,
   "metadata": {
    "collapsed": false
   },
   "outputs": [],
   "source": [
    "# Train test split\n",
    "\n",
    "train_data, test_data = cv.train_test_split(train, test_size=0.25)\n",
    "\n",
    "# For sample\n",
    "x_train_a = train_data.drop(['Purchase'], axis =1).values\n",
    "y_train_a = train_data['Purchase'].ravel()\n",
    "x_test_a = test_data.drop(['Purchase'], axis=1).values\n",
    "y_test_a =test_data['Purchase'].ravel()\n",
    "\n",
    "\n",
    "# For final \n",
    "x_train_f = train.drop(['Purchase'], axis =1).values\n",
    "x_test_f = test.values\n",
    "y_train_f = train['Purchase'].ravel()\n",
    "\n"
   ]
  },
  {
   "cell_type": "code",
   "execution_count": 119,
   "metadata": {
    "collapsed": false
   },
   "outputs": [],
   "source": [
    "# For GBM\n",
    "\n",
    "params = {}\n",
    "params[\"objective\"] = \"reg:linear\"\n",
    "params[\"eta\"] = 0.03\n",
    "params[\"min_child_weight\"] = 10\n",
    "params[\"subsample\"] = 0.8\n",
    "params[\"colsample_bytree\"] = 0.7\n",
    "params[\"silent\"] = 1\n",
    "params[\"max_depth\"] = 10\n",
    "#params[\"max_delta_step\"]=2\n",
    "params[\"seed\"] = 0\n",
    "#params['eval_metric'] = \"auc\"\n",
    "plst = list(params.items())\n",
    "num_rounds = 1000\n",
    "\n",
    "  \n"
   ]
  },
  {
   "cell_type": "code",
   "execution_count": 58,
   "metadata": {
    "collapsed": false
   },
   "outputs": [
    {
     "name": "stdout",
     "output_type": "stream",
     "text": [
      "Finished training the model\n",
      "2411.94152095\n"
     ]
    }
   ],
   "source": [
    "# For sample error\n",
    "\n",
    "xgtrain = xgb.DMatrix(x_train_a, label=y_train_a)\n",
    "xgtest = xgb.DMatrix(x_test_a)\n",
    "model = xgb.train(plst, xgtrain, num_rounds)\n",
    "pred_test_y = model.predict(xgtest)\n",
    "\n",
    "print 'Finished training the model'\n",
    "    \n",
    "rmse = sqrt(mean_squared_error(pred_test_y, y_test_a))\n",
    "print rmse\n"
   ]
  },
  {
   "cell_type": "code",
   "execution_count": 120,
   "metadata": {
    "collapsed": false
   },
   "outputs": [
    {
     "name": "stdout",
     "output_type": "stream",
     "text": [
      "Finished training the model\n"
     ]
    }
   ],
   "source": [
    "# For actual error\n",
    "xgtrain = xgb.DMatrix(x_train_f, label=y_train_f)\n",
    "xgtest = xgb.DMatrix(x_test_f)\n",
    "model = xgb.train(plst, xgtrain, num_rounds)\n",
    "final_y = model.predict(xgtest)\n",
    "\n",
    "print 'Finished training the model'"
   ]
  },
  {
   "cell_type": "code",
   "execution_count": 121,
   "metadata": {
    "collapsed": false
   },
   "outputs": [
    {
     "data": {
      "text/plain": [
       "<matplotlib.axes._subplots.AxesSubplot at 0x11fe7240>"
      ]
     },
     "execution_count": 121,
     "metadata": {},
     "output_type": "execute_result"
    },
    {
     "data": {
      "image/png": "[encoded data removed]",
      "text/plain": [
       "<matplotlib.figure.Figure at 0x11d14d30>"
      ]
     },
     "metadata": {},
     "output_type": "display_data"
    }
   ],
   "source": [
    "xgtrain.feature_names = ['Age', 'City_Category','Gender','Marital_Status','Occupation','Product_Category_1','Product_Category_2',\n",
    "                           'Stay_In_Current_City_Years','Product_mean','Diff_mean','Age_Diff_mean', 'Gender_Diff_mean',\n",
    "                         'City_Diff_mean','PC1_Diff_mean','Occupation_Diff_mean','User_Cat_Diff_mean']\n",
    "\n",
    "model.get_fscore()\n",
    "mapper = {'f{0}'.format(i): v for i, v in enumerate(xgtrain.feature_names)}\n",
    "mapped = {mapper[k]: v for k, v in model.get_fscore().items()}\n",
    "mapped\n",
    "xgb.plot_importance(mapped, color='red')"
   ]
  },
  {
   "cell_type": "code",
   "execution_count": 122,
   "metadata": {
    "collapsed": false
   },
   "outputs": [
    {
     "name": "stdout",
     "output_type": "stream",
     "text": [
      "Finished creating the output file\n"
     ]
    }
   ],
   "source": [
    "# For creating the output file\n",
    "\n",
    "output =pd.DataFrame(columns=['User_ID','Product_ID', 'Purchase'])\n",
    "output['User_ID'] = test_raw['User_ID']\n",
    "output['Product_ID'] = test_raw['Product_ID']\n",
    "output['Purchase'] = final_y\n",
    "\n",
    "output.to_csv(\"output.csv\", index=False)\n",
    "\n",
    "print 'Finished creating the output file'\n"
   ]
  }
 ],
 "metadata": {
  "kernelspec": {
   "display_name": "Python 2",
   "language": "python",
   "name": "python2"
  },
  "language_info": {
   "codemirror_mode": {
    "name": "ipython",
    "version": 2
   },
   "file_extension": ".py",
   "mimetype": "text/x-python",
   "name": "python",
   "nbconvert_exporter": "python",
   "pygments_lexer": "ipython2",
   "version": "2.7.13"
  }
 },
 "nbformat": 4,
 "nbformat_minor": 2
}
